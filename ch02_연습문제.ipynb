{
 "cells": [
  {
   "attachments": {},
   "cell_type": "markdown",
   "metadata": {},
   "source": [
    "연습문제1"
   ]
  },
  {
   "cell_type": "code",
   "execution_count": 1,
   "metadata": {},
   "outputs": [
    {
     "name": "stdout",
     "output_type": "stream",
     "text": [
      "13\n"
     ]
    }
   ],
   "source": [
    "def seq(n):\n",
    "  if  n == 1:\n",
    "    return 1\n",
    "  else:\n",
    "    return seq(n-1)+3\n",
    "\n",
    "print(seq(5))"
   ]
  },
  {
   "attachments": {},
   "cell_type": "markdown",
   "metadata": {},
   "source": [
    "연습문제2"
   ]
  },
  {
   "cell_type": "code",
   "execution_count": 1,
   "metadata": {},
   "outputs": [
    {
     "name": "stdout",
     "output_type": "stream",
     "text": [
      "move 1 from a to c\n",
      "move 2 from a to b\n",
      "move 1 from c to b\n",
      "move 3 from a to c\n",
      "move 1 from b to a\n",
      "move 2 from b to c\n",
      "move 1 from a to c\n"
     ]
    }
   ],
   "source": [
    "def move(n, src, tmp, dest):\n",
    "    if n == 1:\n",
    "        print(\"move %d from %c to %c\" %(n, src, dest))\n",
    "        return\n",
    "    move(n-1, src, dest, tmp)\n",
    "    print(\"move %d from %c to %c\" %(n, src, dest)) \n",
    "    move(n-1, tmp, src, dest)\n",
    "\n",
    "move(3, 'a', 'b', 'c')\n"
   ]
  },
  {
   "cell_type": "code",
   "execution_count": 2,
   "metadata": {},
   "outputs": [
    {
     "name": "stdout",
     "output_type": "stream",
     "text": [
      "move 1 from a to c\n",
      "move 2 from a to b\n",
      "move 1 from c to b\n",
      "move 3 from a to c\n",
      "move 1 from b to a\n",
      "move 2 from b to c\n",
      "move 1 from a to c\n"
     ]
    }
   ],
   "source": [
    "def move(n, src, tmp, dest):\n",
    "  if n>0:\n",
    "    move(n-1, src, dest, tmp)\n",
    "    print(\"move %d from %c to %c\" %(n, src, dest)) \n",
    "    move(n-1, tmp, src, dest)\n",
    "    \n",
    "move(3, 'a', 'b', 'c')"
   ]
  },
  {
   "attachments": {},
   "cell_type": "markdown",
   "metadata": {},
   "source": [
    "연습문제3"
   ]
  },
  {
   "cell_type": "code",
   "execution_count": 3,
   "metadata": {},
   "outputs": [
    {
     "name": "stdout",
     "output_type": "stream",
     "text": [
      "1267650600228229401496703205376\n"
     ]
    }
   ],
   "source": [
    "def pow2(n):\n",
    "  if n == 0:\n",
    "    return 1\n",
    "  else:\n",
    "    return pow2(n-1)*2\n",
    "\n",
    "print(pow2(100))"
   ]
  },
  {
   "attachments": {},
   "cell_type": "markdown",
   "metadata": {},
   "source": [
    "연습문제4"
   ]
  },
  {
   "cell_type": "code",
   "execution_count": 3,
   "metadata": {},
   "outputs": [
    {
     "name": "stdout",
     "output_type": "stream",
     "text": [
      "9\n"
     ]
    }
   ],
   "source": [
    "num = [2, 4, 1, 8, 9, 3]\n",
    "\n",
    "def max(num, n):\n",
    "    if n == 1:\n",
    "        return num[0]\n",
    "    else:\n",
    "        max_left = max(num, n-1)\n",
    "        return num[n-1] if num[n-1] > max_left else max_left\n",
    "\n",
    "print(max(num, len(num)-1))"
   ]
  },
  {
   "cell_type": "code",
   "execution_count": 2,
   "metadata": {},
   "outputs": [
    {
     "name": "stdout",
     "output_type": "stream",
     "text": [
      "9\n"
     ]
    }
   ],
   "source": [
    "num = [2, 4, 1, 8, 9, 3]\n",
    "\n",
    "def max(num, n):\n",
    "    if n == 1:\n",
    "        return num[0]\n",
    "    return num[0] if num[0] > max(num[1:], n-1) else max(num[1:], n-1)\n",
    "\n",
    "print(max(num, len(num)-1))"
   ]
  }
 ],
 "metadata": {
  "kernelspec": {
   "display_name": "base",
   "language": "python",
   "name": "python3"
  },
  "language_info": {
   "codemirror_mode": {
    "name": "ipython",
    "version": 3
   },
   "file_extension": ".py",
   "mimetype": "text/x-python",
   "name": "python",
   "nbconvert_exporter": "python",
   "pygments_lexer": "ipython3",
   "version": "3.9.13"
  },
  "orig_nbformat": 4
 },
 "nbformat": 4,
 "nbformat_minor": 2
}
