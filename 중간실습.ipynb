{
 "cells": [
  {
   "cell_type": "markdown",
   "metadata": {},
   "source": [
    "2장 재귀"
   ]
  },
  {
   "cell_type": "markdown",
   "metadata": {},
   "source": [
    "등차수열"
   ]
  },
  {
   "cell_type": "code",
   "execution_count": 1,
   "metadata": {},
   "outputs": [],
   "source": [
    "def seq(n):\n",
    "    if n == 1:\n",
    "        return 1\n",
    "    else:\n",
    "        return seq(n-1) + 3"
   ]
  },
  {
   "cell_type": "code",
   "execution_count": 2,
   "metadata": {},
   "outputs": [
    {
     "data": {
      "text/plain": [
       "7"
      ]
     },
     "execution_count": 2,
     "metadata": {},
     "output_type": "execute_result"
    }
   ],
   "source": [
    "seq(3)"
   ]
  },
  {
   "cell_type": "markdown",
   "metadata": {},
   "source": [
    "피보나치 수열(재귀)"
   ]
  },
  {
   "cell_type": "code",
   "execution_count": 3,
   "metadata": {},
   "outputs": [],
   "source": [
    "def fib_recursive(n):\n",
    "    if (n ==1 or n == 2):\n",
    "        return 1\n",
    "    else:\n",
    "        return fib_recursive(n-1) + fib_recursive(n-2)"
   ]
  },
  {
   "cell_type": "code",
   "execution_count": 4,
   "metadata": {},
   "outputs": [
    {
     "data": {
      "text/plain": [
       "102334155"
      ]
     },
     "execution_count": 4,
     "metadata": {},
     "output_type": "execute_result"
    }
   ],
   "source": [
    "fib_recursive(40)"
   ]
  },
  {
   "cell_type": "markdown",
   "metadata": {},
   "source": [
    "피보나치 수열(반복)"
   ]
  },
  {
   "cell_type": "code",
   "execution_count": 39,
   "metadata": {},
   "outputs": [],
   "source": [
    "def fib_iterative(n):\n",
    "    f = [0, 1, 1]   \n",
    "    for i in range(3, n + 1):\n",
    "        f.append(f[i - 1] + f[i - 2])\n",
    "    return f[n]"
   ]
  },
  {
   "cell_type": "code",
   "execution_count": 40,
   "metadata": {},
   "outputs": [
    {
     "data": {
      "text/plain": [
       "102334155"
      ]
     },
     "execution_count": 40,
     "metadata": {},
     "output_type": "execute_result"
    }
   ],
   "source": [
    "fib_iterative(40)"
   ]
  },
  {
   "cell_type": "markdown",
   "metadata": {},
   "source": [
    "팩토리얼(재귀)"
   ]
  },
  {
   "cell_type": "code",
   "execution_count": 7,
   "metadata": {},
   "outputs": [],
   "source": [
    "def factorial_recursive(n):\n",
    "    if n == 0:\n",
    "        return 1\n",
    "    else:\n",
    "        return n * factorial_recursive(n-1)"
   ]
  },
  {
   "cell_type": "code",
   "execution_count": 8,
   "metadata": {},
   "outputs": [
    {
     "data": {
      "text/plain": [
       "120"
      ]
     },
     "execution_count": 8,
     "metadata": {},
     "output_type": "execute_result"
    }
   ],
   "source": [
    "factorial_recursive(5)"
   ]
  },
  {
   "cell_type": "markdown",
   "metadata": {},
   "source": [
    "팩토리얼(반복)"
   ]
  },
  {
   "cell_type": "code",
   "execution_count": 37,
   "metadata": {},
   "outputs": [],
   "source": [
    "def factorial_iterative(n):\n",
    "    tmp = 1 \n",
    "    for i in range(2, n+1):\n",
    "        tmp = i * tmp\n",
    "    return tmp"
   ]
  },
  {
   "cell_type": "code",
   "execution_count": 38,
   "metadata": {},
   "outputs": [
    {
     "data": {
      "text/plain": [
       "120"
      ]
     },
     "execution_count": 38,
     "metadata": {},
     "output_type": "execute_result"
    }
   ],
   "source": [
    "factorial_iterative(5)"
   ]
  },
  {
   "cell_type": "markdown",
   "metadata": {},
   "source": [
    "히노이 탑"
   ]
  },
  {
   "cell_type": "code",
   "execution_count": 6,
   "metadata": {},
   "outputs": [
    {
     "name": "stdout",
     "output_type": "stream",
     "text": [
      "move 1 from a to c\n",
      "move 2 from a to b\n",
      "move 1 from c to b\n",
      "move 3 from a to c\n",
      "move 1 from b to a\n",
      "move 2 from b to c\n",
      "move 1 from a to c\n"
     ]
    }
   ],
   "source": [
    "def move(n, src, tmp, dest):\n",
    "    if n == 1:\n",
    "        print(\"move %d from %c to %c\" %(n, src, dest))\n",
    "        return\n",
    "    move(n-1, src, dest, tmp)\n",
    "    print(\"move %d from %c to %c\" %(n, src, dest)) \n",
    "    move(n-1, tmp, src, dest)\n",
    "\n",
    "move(3, 'a', 'b', 'c')"
   ]
  },
  {
   "cell_type": "markdown",
   "metadata": {},
   "source": [
    "선택 정렬(반복)"
   ]
  },
  {
   "cell_type": "code",
   "execution_count": 34,
   "metadata": {},
   "outputs": [],
   "source": [
    "def selectionSort_iterative(A):\n",
    "    for last in range(len(A)-1, 0, -1):\n",
    "        k = theLargest(A, last)\n",
    "        A[k], A[last] = A[last], A[k]\n",
    "\n",
    "def theLargest(A, last:int) -> int:\n",
    "    largest = 0\n",
    "    for i in range(last+1):\n",
    "        if A[i] > A[largest]:\n",
    "            largest = i\n",
    "    return largest"
   ]
  },
  {
   "cell_type": "code",
   "execution_count": 35,
   "metadata": {},
   "outputs": [
    {
     "name": "stdout",
     "output_type": "stream",
     "text": [
      "[1, 2, 3, 4, 5, 6, 7, 8, 9]\n"
     ]
    }
   ],
   "source": [
    "A = [1, 2, 4, 3, 7, 6, 5, 9, 8]\n",
    "selectionSort_iterative(A)\n",
    "print(A)"
   ]
  },
  {
   "cell_type": "markdown",
   "metadata": {},
   "source": [
    "선택 정렬(재귀) -> 해야돼?"
   ]
  },
  {
   "cell_type": "markdown",
   "metadata": {},
   "source": [
    "후위 표현법"
   ]
  },
  {
   "cell_type": "code",
   "execution_count": 32,
   "metadata": {},
   "outputs": [],
   "source": [
    "def evaluate_postfix(tokens):\n",
    "    if not tokens:\n",
    "        return None\n",
    "    \n",
    "    token = tokens.pop()\n",
    "    \n",
    "    if token.isnumeric():\n",
    "        return float(token)\n",
    "    else:\n",
    "        operand2 = evaluate_postfix(tokens)\n",
    "        operand1 = evaluate_postfix(tokens)\n",
    "    \n",
    "        if token == '+':\n",
    "            return operand1 + operand2\n",
    "        if token == '-':\n",
    "            return operand1 - operand2\n",
    "        if token == '*':\n",
    "            return operand1 * operand2\n",
    "        if token == '/':\n",
    "            return operand1 / operand2\n",
    "        if token == '^':\n",
    "            return operand1 ** operand2    "
   ]
  },
  {
   "cell_type": "code",
   "execution_count": 33,
   "metadata": {},
   "outputs": [
    {
     "name": "stdout",
     "output_type": "stream",
     "text": [
      "14.0\n"
     ]
    }
   ],
   "source": [
    "postfix_expression = \"2 3 4 + *\"\n",
    "tokens = postfix_expression.split()\n",
    "result = evaluate_postfix(tokens.copy())\n",
    "\n",
    "print(result)"
   ]
  },
  {
   "cell_type": "markdown",
   "metadata": {},
   "source": [
    "이진탐색(반복)"
   ]
  },
  {
   "cell_type": "code",
   "execution_count": 47,
   "metadata": {},
   "outputs": [],
   "source": [
    "def binarySearch_iterative(A, n, x):\n",
    "    low = 0\n",
    "    high = n-1\n",
    "    while low <= high:\n",
    "        mid = (low+high)//2\n",
    "        if A[mid] < x:\n",
    "            low = mid + 1\n",
    "        elif A[mid] > x:\n",
    "            high = mid - 1\n",
    "        else:\n",
    "            return mid\n",
    "    return \"Not Found\""
   ]
  },
  {
   "cell_type": "code",
   "execution_count": 53,
   "metadata": {},
   "outputs": [
    {
     "data": {
      "text/plain": [
       "6"
      ]
     },
     "execution_count": 53,
     "metadata": {},
     "output_type": "execute_result"
    }
   ],
   "source": [
    "A = [1, 2, 3, 4, 5, 6, 7, 8, 9]\n",
    "binarySearch_iterative(A, 9, 7)"
   ]
  },
  {
   "cell_type": "markdown",
   "metadata": {},
   "source": [
    "이진탐색(재귀)"
   ]
  },
  {
   "cell_type": "code",
   "execution_count": 49,
   "metadata": {},
   "outputs": [],
   "source": [
    "def binarySearch_recursive(A, x, low, high):\n",
    "    if low > high:\n",
    "        return \"Not Found\"\n",
    "    mid = (low+high)//2\n",
    "    if A[mid] < x:\n",
    "        return binarySearch_recursive(A, x, mid+1, high)\n",
    "    elif A[mid] > x:\n",
    "        return binarySearch_recursive(A, x, low, mid-1)\n",
    "    else:\n",
    "        return mid"
   ]
  },
  {
   "cell_type": "code",
   "execution_count": 52,
   "metadata": {},
   "outputs": [
    {
     "data": {
      "text/plain": [
       "6"
      ]
     },
     "execution_count": 52,
     "metadata": {},
     "output_type": "execute_result"
    }
   ],
   "source": [
    "A = [1, 2, 3, 4, 5, 6, 7, 8, 9]\n",
    "binarySearch_recursive(A, 7, 1, 9)"
   ]
  },
  {
   "cell_type": "code",
   "execution_count": 3,
   "metadata": {},
   "outputs": [],
   "source": [
    "def sample(A, n):\n",
    "    if n == 1: return 1\n",
    "    sum = 0\n",
    "    tmp = 0\n",
    "    for i in range(n):\n",
    "        sum += A[i]\n",
    "    tmp <- sum + sample(A, n-1)\n",
    "    return tmp\n"
   ]
  },
  {
   "cell_type": "code",
   "execution_count": null,
   "metadata": {},
   "outputs": [],
   "source": [
    "sample(A[], n):\n",
    "    if (n = 1) return 1\n",
    "    sum <- 0\n",
    "    for i <- 1 to n\n",
    "        sum <- sum + A[i]\n",
    "    tmp <- sum + sample(A, n-1)\n",
    "    return tmp"
   ]
  },
  {
   "cell_type": "code",
   "execution_count": 4,
   "metadata": {},
   "outputs": [
    {
     "data": {
      "text/plain": [
       "0"
      ]
     },
     "execution_count": 4,
     "metadata": {},
     "output_type": "execute_result"
    }
   ],
   "source": [
    "A = [1, 2, 3, 4, 5]\n",
    "sample(A, 5)"
   ]
  },
  {
   "cell_type": "markdown",
   "metadata": {},
   "source": [
    "5장 리스트"
   ]
  },
  {
   "cell_type": "code",
   "execution_count": 8,
   "metadata": {},
   "outputs": [],
   "source": [
    "class ListNode:\n",
    "    def __init__(self, newItem, nextNode:'ListNode'):\n",
    "        self.item = newItem\n",
    "        self.next = nextNode\n",
    "    "
   ]
  },
  {
   "cell_type": "markdown",
   "metadata": {},
   "source": [
    "LinkedList"
   ]
  },
  {
   "cell_type": "code",
   "execution_count": 10,
   "metadata": {},
   "outputs": [],
   "source": [
    "class LinkedListBasic:\n",
    "    def __init__(self):\n",
    "        self.__head = ListNode('dummy', None)\n",
    "        self.__numItems = 0\n",
    "    \n",
    "    def insert(self, i:int, newItem):\n",
    "        if i >= 0 and i <= self.__numItems:\n",
    "            prev = self.__getNode(i-1)\n",
    "            newNode = ListNode(newItem, prev.next)\n",
    "            prev.next = newNode\n",
    "            self.__numItems += 1\n",
    "        else:\n",
    "            print(\"index\", i, \": out of bound in insert()\")\n",
    "    \n",
    "    def append(self, newItem):\n",
    "        prev = self.__getNode(self.__numItems-1)\n",
    "        newNode = ListNode(newItem, prev.next)\n",
    "        prev.next = newNode\n",
    "        self.__numItems += 1\n",
    "        \n",
    "    def pop(self, i:int):\n",
    "        if i < 0:\n",
    "            i += self.__numItems\n",
    "        if (i >= 0 and i <= self.__numItems-1):\n",
    "            prev = self.__getNode(i-1)\n",
    "            curr = prev.next\n",
    "            prev.next = curr.next\n",
    "            retItem = curr.item\n",
    "            self.__numItems -= 1\n",
    "            return retItem\n",
    "        else:\n",
    "            return None \n",
    "\n",
    "    def remove(self, x):\n",
    "        (prev, curr) = self.__findNode(x)\n",
    "        if curr != None:\n",
    "            prev.next = curr.next\n",
    "            self.__numItems -= 1\n",
    "            return x\n",
    "        else:\n",
    "            return None\n",
    "    \n",
    "    def get(self, i:int):\n",
    "        if self.isEmpty():\n",
    "            return None\n",
    "        if (i >= 0 and i <= self.__numItems-1):\n",
    "            return self.__getNode(i).item\n",
    "        else:\n",
    "            return None\n",
    "    \n",
    "    def index(self, x) -> int:\n",
    "        curr = self.__head.next\n",
    "        for index in range(self.__numItems):\n",
    "            if curr.item == x:\n",
    "                return index\n",
    "            else:\n",
    "                curr = curr.next\n",
    "        return -2\n",
    "    \n",
    "    def isEmpty(self) -> bool:\n",
    "        return self.__numItems == 0\n",
    "    \n",
    "    def size(self) -> int:\n",
    "        return self.__numItems\n",
    "    \n",
    "    def clear(self):\n",
    "        self.__head = ListNode(\"dummy\", None)\n",
    "        self.__numItems = 0\n",
    "        \n",
    "    def count(self, x) -> int:\n",
    "        cnt = 0\n",
    "        curr = self.__head.next\n",
    "        while curr != None:\n",
    "            if curr.item == x:\n",
    "                    cnt += 1\n",
    "            curr = curr.next\n",
    "        return cnt\n",
    "    \n",
    "    def extend(self, a):\n",
    "        for index in range(a.size()):\n",
    "            self.append(a.get(index))\n",
    "            \n",
    "    def copy(self):\n",
    "        a = LinkedListBasic()\n",
    "        for index in range(self.__numItems):\n",
    "            a.append(self.get(index))\n",
    "        return a\n",
    "    \n",
    "    def reverse(self):\n",
    "        a = LinkedListBasic()\n",
    "        for index in range(self.__numItems):\n",
    "            a.insert(0, self.get(index))\n",
    "        self.clear()\n",
    "        for index in range(a.size()):\n",
    "            self.append(a.get(index))\n",
    "    \n",
    "    def sort(self) -> None:\n",
    "        a = []\n",
    "        for index in range(self.__numItems):\n",
    "            a.append(self.get(index))\n",
    "        a.sort()\n",
    "        self.clear()\n",
    "        for index in range(len(a)):\n",
    "            self.append(a[index])\n",
    "    \n",
    "    def __findNode(self, x):\n",
    "        prev = self.__head\n",
    "        curr = prev.next\n",
    "        while curr != None:\n",
    "            if curr.item == x:\n",
    "                return (prev, curr)\n",
    "            else:\n",
    "                prev = curr; curr = curr.next\n",
    "        return (None, None)\n",
    "    \n",
    "    def __getNode(self, i:int) -> ListNode:\n",
    "        curr = self.__head\n",
    "        for index in range(i+1):\n",
    "            curr = curr.next\n",
    "        return curr\n",
    "    \n",
    "    def printList(self):\n",
    "        curr = self.__head.next\n",
    "        while curr != None:\n",
    "            print(curr.item, end = ' ')\n",
    "            curr = curr.next\n",
    "        print()\n",
    "        \n",
    "    def __iter__(self):\n",
    "        return LinkedListBasicIterator(self)\n",
    "    \n",
    "class LinkedListBasicIterator:\n",
    "    def __init__(self, alist):\n",
    "        self.curr = alist._LinkedListBasic__head.next\n",
    "        \n",
    "    def __next__(self):\n",
    "        if self.curr is None:\n",
    "            raise StopIteration\n",
    "        else:\n",
    "            item = self.curr.item\n",
    "            self.curr = self.curr.next\n",
    "            return item    "
   ]
  },
  {
   "cell_type": "code",
   "execution_count": 13,
   "metadata": {},
   "outputs": [
    {
     "name": "stdout",
     "output_type": "stream",
     "text": [
      "Amy\n",
      "Kevin\n",
      "Mary\n",
      "David\n",
      "Amy Kevin Mary Rose \n"
     ]
    }
   ],
   "source": [
    "if __name__ == \"__main__\":\n",
    "    \n",
    "    names = [\"Amy\", \"Kevin\", \"Mary\", \"David\"]\n",
    "    \n",
    "    name_list = LinkedListBasic()\n",
    "    \n",
    "    for name in names:\n",
    "        name_list.append(name)\n",
    "    \n",
    "    for name in name_list:\n",
    "        print(name)\n",
    "        \n",
    "    name_list.pop(name_list.size() -1)\n",
    "    name_list.insert(0, \"Rose\")\n",
    "    name_list.sort()\n",
    "    name_list.printList()"
   ]
  },
  {
   "cell_type": "markdown",
   "metadata": {},
   "source": [
    "CircularLinkedList"
   ]
  },
  {
   "cell_type": "code",
   "execution_count": null,
   "metadata": {},
   "outputs": [],
   "source": [
    "class CircularLinkedList:\n",
    "    def __init__(self):\n",
    "        self.__tail = ListNode(\"dummy\", None)\n",
    "        self.__tail.next = self.__tail\n",
    "        self.__numItems = 0\n",
    "    \n",
    "    def insert(self, i:int, newItem):\n",
    "        if (i >= 0 and i <= self.__numItems):\n",
    "            prev = self.getNode(i-1)\n",
    "            newNode = ListNode(newItem, prev.next)\n",
    "            prev.next = newNode\n",
    "            if i == self.__numItems:\n",
    "                self.__tail = newNode\n",
    "            self.__numItems += 1\n",
    "        else:\n",
    "            print(\"index\", i, \": out of bound in insert()\")\n",
    "    \n",
    "    def append(self, newItem):\n",
    "        newNode = ListNode(newItem, self.__tail.next)\n",
    "        self.__tail.next = newNode\n",
    "        self.__tail = newNode\n",
    "        self.__numItems += 1\n",
    "        \n",
    "    def pop(self, *args):\n",
    "        if self.isEmpty():\n",
    "            return None\n",
    "        if len(args) != 0:\n",
    "            i = args[0]\n",
    "        if len(args) == 0 or i == -1:\n",
    "            i = self.__numItems-1\n",
    "        if (i >= 0 and i <= self.__numItems-1):\n",
    "            prev = self.getNode(i-1)\n",
    "            retItem = prev.next.item\n",
    "            prev.next = prev.next.next\n",
    "            if i == self.__numItems-1:\n",
    "                self.__tail = prev\n",
    "            self.__numItems -= 1\n",
    "            return retItem\n",
    "        else:\n",
    "            return None \n",
    "\n",
    "    def remove(self, x):\n",
    "        (prev, curr) = self.__findNode(x)\n",
    "        if curr != None:\n",
    "            prev.next = curr.next\n",
    "            if curr == self.__tail:\n",
    "                self.__tail = prev\n",
    "            self.__numItems -= 1\n",
    "            return x\n",
    "        else:\n",
    "            return None\n",
    "    \n",
    "    def get(self, *args):\n",
    "        if self.isEmpty():\n",
    "            return None\n",
    "        if len(args) != 0:\n",
    "            i = args[0]\n",
    "        if len(args) == 0 or i == -1:\n",
    "            i = self.__numItems-1\n",
    "        if (i >= 0 and i <= self.__numItems-1):\n",
    "            return self.getNode(i).item\n",
    "        else:\n",
    "            return None\n",
    "    \n",
    "    def index(self, x) -> int:\n",
    "        cnt = 0\n",
    "        for element in self:\n",
    "            if element == x:\n",
    "                return cnt\n",
    "            cnt += 1\n",
    "        return -12345\n",
    "    \n",
    "    def isEmpty(self) -> bool:\n",
    "        return self.__numItems == 0\n",
    "    \n",
    "    def size(self) -> int:\n",
    "        return self.__numItems\n",
    "    \n",
    "    def clear(self):\n",
    "        self.__tail = ListNode(\"dummy\", None)\n",
    "        self.__tail.next = self.__tail\n",
    "        self.__numItems = 0\n",
    "        \n",
    "    def count(self, x) -> int:\n",
    "        cnt = 0\n",
    "        for element in self:\n",
    "            if element == x:\n",
    "                    cnt += 1\n",
    "        return cnt\n",
    "    \n",
    "    def extend(self, a):\n",
    "        for x in a:\n",
    "            self.append(x)\n",
    "            \n",
    "    def copy(self) -> 'CircularLinkedList':\n",
    "        a = CircularLinkedList()\n",
    "        for element in self:\n",
    "            a.append(element)\n",
    "        return a\n",
    "    \n",
    "    def reverse(self) -> None:\n",
    "        __head = self.__tail.next\n",
    "        prev = __head; curr = prev.next; next = curr.next\n",
    "        curr.next = __head; __head.next = self.__tail; self.__ = curr\n",
    "        for i in range(self.__numItems-1):\n",
    "            prev = curr; curr = next; next = next.next\n",
    "            curr.next = prev\n",
    "\n",
    "    def sort(self) -> None:\n",
    "        a = []\n",
    "        for element in self:\n",
    "            a.append(element)\n",
    "        a.sort()\n",
    "        self.clear()\n",
    "        for element in a:\n",
    "            self.append(element)\n",
    "    \n",
    "    def __findNode(self, x):\n",
    "        __head = prev = self.__tail.next\n",
    "        curr = prev.next\n",
    "        while curr != __head:\n",
    "            if curr.item == x:\n",
    "                return (prev, curr)\n",
    "            else:\n",
    "                prev = curr; curr = curr.next\n",
    "        return (None, None)\n",
    "    \n",
    "    def getNode(self, i:int) -> ListNode:\n",
    "        curr = self.__tail.next\n",
    "        for index in range(i+1):\n",
    "            curr = curr.next\n",
    "        return curr\n",
    "    \n",
    "    def printList(self):\n",
    "        for element in self:\n",
    "            print(element, end = ' ')\n",
    "        print()\n",
    "\n",
    "    def __iter__(self):\n",
    "        return CircularLinkedListIterator(self)\n",
    "    \n",
    "class CircularLinkedListIterator:\n",
    "    def __init__(self, alist):\n",
    "        self.__head = alist.getNode(-1)\n",
    "        self.iterPosition = self.__head.next\n",
    "    \n",
    "    def __next__(self):\n",
    "        if self.iterPosition == self.__head:\n",
    "            raise StopIteration\n",
    "        else:\n",
    "            item = self.iterPosition.item\n",
    "            self.iterPosition = self.iterPosition.next\n",
    "            return item"
   ]
  },
  {
   "cell_type": "markdown",
   "metadata": {},
   "source": [
    "스택"
   ]
  },
  {
   "cell_type": "code",
   "execution_count": 9,
   "metadata": {},
   "outputs": [],
   "source": [
    "class ListStack:\n",
    "    def __init__(self):\n",
    "        self.__stack = []\n",
    "    \n",
    "    def push(self, x):\n",
    "        self.__stack.append(x)\n",
    "        \n",
    "    def pop(self):\n",
    "        return self.__stack.pop()\n",
    "    \n",
    "    def top(self):\n",
    "        if self.isEmpty():\n",
    "            return None\n",
    "        else:\n",
    "            return self.__stack[-1]\n",
    "        \n",
    "    def isEmpty(self) -> bool:\n",
    "        return not bool(self.__stack)\n",
    "    \n",
    "    def popAll(self):\n",
    "        self.__stack.clear()\n",
    "        \n",
    "    def printStack(self):\n",
    "        print(\"Stack from bottom:\", end = ' ')\n",
    "        for i in range(len(self.__stack)):\n",
    "            print(self.__stack[i], end = ' ')\n",
    "        print()\n",
    "        \n",
    "    def reverse(str):\n",
    "        st = ListStack()\n",
    "        for i in range(len(str)):\n",
    "            st.push(str[i])\n",
    "        out = \"\"\n",
    "        while not st.isEmpty():\n",
    "            out += st.pop()\n",
    "        return out   \n",
    "        "
   ]
  },
  {
   "cell_type": "code",
   "execution_count": 10,
   "metadata": {},
   "outputs": [
    {
     "name": "stdout",
     "output_type": "stream",
     "text": [
      "Top is 200\n",
      "Stack from bottom: 100 Monday \n",
      "isEmpty False\n"
     ]
    }
   ],
   "source": [
    "st1 = ListStack()\n",
    "st1.push(100)\n",
    "st1.push(200)\n",
    "print(\"Top is\", st1.top())\n",
    "st1.pop()\n",
    "st1.push('Monday')\n",
    "st1.printStack()\n",
    "print('isEmpty', st1.isEmpty())"
   ]
  },
  {
   "cell_type": "code",
   "execution_count": 20,
   "metadata": {},
   "outputs": [],
   "source": [
    "#리스트 맨 앞을 스택의 탑으로 간주\n",
    "class ListStack2:\n",
    "    def __init__(self):\n",
    "        self.__stack = []\n",
    "    \n",
    "    def push(self, x):\n",
    "        self.__stack.insert(0,x)\n",
    "        \n",
    "    def pop(self):\n",
    "        return self.__stack.pop(0)\n",
    "    \n",
    "    def top(self):\n",
    "        if self.isEmpty():\n",
    "            return None\n",
    "        else:\n",
    "            return self.__stack[0]\n",
    "        \n",
    "    def isEmpty(self) -> bool:\n",
    "        return not bool(self.__stack)\n",
    "    \n",
    "    def popAll(self):\n",
    "        self.__stack.clear()\n",
    "        \n",
    "    def printStack(self):\n",
    "        print(\"Stack from bottom:\", end = ' ')\n",
    "        for i in range(len(self.__stack)-1, -1, -1):\n",
    "            print(self.__stack[i], end = ' ')\n",
    "        print()\n",
    "        \n",
    "    def reverse(str):\n",
    "        st = ListStack()\n",
    "        for i in range(len(str)):\n",
    "            st.push(str[i])\n",
    "        out = \"\"\n",
    "        while not st.isEmpty():\n",
    "            out += st.pop()\n",
    "        return out   "
   ]
  },
  {
   "cell_type": "code",
   "execution_count": 21,
   "metadata": {},
   "outputs": [
    {
     "name": "stdout",
     "output_type": "stream",
     "text": [
      "Top is 200\n",
      "Stack from bottom: 100 Monday \n",
      "isEmpty False\n"
     ]
    }
   ],
   "source": [
    "#1\n",
    "st1 = ListStack2()\n",
    "st1.push(100)\n",
    "st1.push(200)\n",
    "print(\"Top is\", st1.top())\n",
    "st1.pop()\n",
    "st1.push('Monday')\n",
    "st1.printStack()\n",
    "print('isEmpty', st1.isEmpty())\n"
   ]
  },
  {
   "cell_type": "code",
   "execution_count": null,
   "metadata": {},
   "outputs": [],
   "source": [
    "def evaluate(p):\n",
    "    s = ListStack()\n",
    "    digitPreviously = False\n",
    "    for i in range(len(p)):\n",
    "        if digitPreviously:\n",
    "            tmp = s,pop()\n",
    "            tmp = 10*tmp +(ord(chg)-ord('0'))\n",
    "            s.push(tmp)\n",
    "        else:\n",
    "            s.push(ord(ch)=ord('0'))\n",
    "            digitPreviously = True"
   ]
  },
  {
   "cell_type": "code",
   "execution_count": null,
   "metadata": {},
   "outputs": [],
   "source": []
  },
  {
   "cell_type": "code",
   "execution_count": 1,
   "metadata": {},
   "outputs": [
    {
     "name": "stdout",
     "output_type": "stream",
     "text": [
      "[1, 2, 3, 4, 5, 7]\n"
     ]
    }
   ],
   "source": [
    "def insertionSort(A):\n",
    "    for i in range(1,len(A)):\n",
    "        loc = i-1\n",
    "        newItem = A[i]\n",
    "        while loc>=0 and newItem <= A[loc]:\n",
    "            A[loc+1] = A[loc]\n",
    "            loc -=1\n",
    "        A[loc+1] = newItem\n",
    "        \n",
    "A = [1, 4, 5, 2, 7, 3]\n",
    "insertionSort(A)\n",
    "print(A)"
   ]
  }
 ],
 "metadata": {
  "kernelspec": {
   "display_name": "base",
   "language": "python",
   "name": "python3"
  },
  "language_info": {
   "codemirror_mode": {
    "name": "ipython",
    "version": 3
   },
   "file_extension": ".py",
   "mimetype": "text/x-python",
   "name": "python",
   "nbconvert_exporter": "python",
   "pygments_lexer": "ipython3",
   "version": "3.9.13"
  }
 },
 "nbformat": 4,
 "nbformat_minor": 2
}
